{
 "cells": [
  {
   "cell_type": "code",
   "execution_count": 2,
   "id": "cf328109",
   "metadata": {},
   "outputs": [
    {
     "data": {
      "text/html": [
       "<div>\n",
       "<style scoped>\n",
       "    .dataframe tbody tr th:only-of-type {\n",
       "        vertical-align: middle;\n",
       "    }\n",
       "\n",
       "    .dataframe tbody tr th {\n",
       "        vertical-align: top;\n",
       "    }\n",
       "\n",
       "    .dataframe thead th {\n",
       "        text-align: right;\n",
       "    }\n",
       "</style>\n",
       "<table border=\"1\" class=\"dataframe\">\n",
       "  <thead>\n",
       "    <tr style=\"text-align: right;\">\n",
       "      <th></th>\n",
       "      <th>Sr No</th>\n",
       "      <th>Date dd/mm/yyyy</th>\n",
       "      <th>Startup Name</th>\n",
       "      <th>Industry Vertical</th>\n",
       "      <th>SubVertical</th>\n",
       "      <th>City  Location</th>\n",
       "      <th>Investors Name</th>\n",
       "      <th>InvestmentnType</th>\n",
       "      <th>Amount in USD</th>\n",
       "      <th>Profitable</th>\n",
       "    </tr>\n",
       "  </thead>\n",
       "  <tbody>\n",
       "    <tr>\n",
       "      <th>0</th>\n",
       "      <td>1</td>\n",
       "      <td>09-01-2020</td>\n",
       "      <td>BYJU’S</td>\n",
       "      <td>E-Tech</td>\n",
       "      <td>E-learning</td>\n",
       "      <td>Bengaluru</td>\n",
       "      <td>Tiger Global Management</td>\n",
       "      <td>Private Equity Round</td>\n",
       "      <td>20,00,00,000</td>\n",
       "      <td>0</td>\n",
       "    </tr>\n",
       "    <tr>\n",
       "      <th>1</th>\n",
       "      <td>2</td>\n",
       "      <td>13-01-2020</td>\n",
       "      <td>Shuttl</td>\n",
       "      <td>Transportation</td>\n",
       "      <td>App based shuttle service</td>\n",
       "      <td>Gurgaon</td>\n",
       "      <td>Susquehanna Growth Equity</td>\n",
       "      <td>Series C</td>\n",
       "      <td>80,48,394</td>\n",
       "      <td>1</td>\n",
       "    </tr>\n",
       "    <tr>\n",
       "      <th>2</th>\n",
       "      <td>3</td>\n",
       "      <td>09-01-2020</td>\n",
       "      <td>Mamaearth</td>\n",
       "      <td>E-commerce</td>\n",
       "      <td>Retailer of baby and toddler products</td>\n",
       "      <td>Bengaluru</td>\n",
       "      <td>Sequoia Capital India</td>\n",
       "      <td>Series B</td>\n",
       "      <td>1,83,58,860</td>\n",
       "      <td>1</td>\n",
       "    </tr>\n",
       "    <tr>\n",
       "      <th>3</th>\n",
       "      <td>4</td>\n",
       "      <td>02-01-2020</td>\n",
       "      <td>https://www.wealthbucket.in/</td>\n",
       "      <td>FinTech</td>\n",
       "      <td>Online Investment</td>\n",
       "      <td>New Delhi</td>\n",
       "      <td>Vinod Khatumal</td>\n",
       "      <td>Pre-series A</td>\n",
       "      <td>30,00,000</td>\n",
       "      <td>0</td>\n",
       "    </tr>\n",
       "    <tr>\n",
       "      <th>4</th>\n",
       "      <td>5</td>\n",
       "      <td>02-01-2020</td>\n",
       "      <td>Fashor</td>\n",
       "      <td>Fashion and Apparel</td>\n",
       "      <td>Embroiled Clothes For Women</td>\n",
       "      <td>Mumbai</td>\n",
       "      <td>Sprout Venture Partners</td>\n",
       "      <td>Seed Round</td>\n",
       "      <td>18,00,000</td>\n",
       "      <td>0</td>\n",
       "    </tr>\n",
       "  </tbody>\n",
       "</table>\n",
       "</div>"
      ],
      "text/plain": [
       "   Sr No Date dd/mm/yyyy                  Startup Name    Industry Vertical  \\\n",
       "0      1      09-01-2020                        BYJU’S               E-Tech   \n",
       "1      2      13-01-2020                        Shuttl       Transportation   \n",
       "2      3      09-01-2020                     Mamaearth           E-commerce   \n",
       "3      4      02-01-2020  https://www.wealthbucket.in/              FinTech   \n",
       "4      5      02-01-2020                        Fashor  Fashion and Apparel   \n",
       "\n",
       "                             SubVertical City  Location  \\\n",
       "0                             E-learning      Bengaluru   \n",
       "1              App based shuttle service        Gurgaon   \n",
       "2  Retailer of baby and toddler products      Bengaluru   \n",
       "3                      Online Investment      New Delhi   \n",
       "4            Embroiled Clothes For Women         Mumbai   \n",
       "\n",
       "              Investors Name       InvestmentnType Amount in USD  Profitable  \n",
       "0    Tiger Global Management  Private Equity Round  20,00,00,000           0  \n",
       "1  Susquehanna Growth Equity              Series C     80,48,394           1  \n",
       "2      Sequoia Capital India              Series B   1,83,58,860           1  \n",
       "3             Vinod Khatumal          Pre-series A     30,00,000           0  \n",
       "4    Sprout Venture Partners            Seed Round     18,00,000           0  "
      ]
     },
     "execution_count": 2,
     "metadata": {},
     "output_type": "execute_result"
    }
   ],
   "source": [
    "import pandas as pd\n",
    "\n",
    "# Assuming file is called 'DSBI_dataset.csv'\n",
    "df = pd.read_csv(\"DSBI_dataset.csv\")\n",
    "\n",
    "df.head()"
   ]
  },
  {
   "cell_type": "code",
   "execution_count": null,
   "id": "a1fcc23e",
   "metadata": {},
   "outputs": [
    {
     "name": "stdout",
     "output_type": "stream",
     "text": [
      "<class 'pandas.core.frame.DataFrame'>\n",
      "Index: 2045 entries, 0 to 3043\n",
      "Data columns (total 9 columns):\n",
      " #   Column             Non-Null Count  Dtype         \n",
      "---  ------             --------------  -----         \n",
      " 0   Date_ddmmyyyy      2039 non-null   datetime64[ns]\n",
      " 1   Startup_Name       2045 non-null   object        \n",
      " 2   Industry_Vertical  2045 non-null   object        \n",
      " 3   SubVertical        1403 non-null   object        \n",
      " 4   City__Location     2045 non-null   object        \n",
      " 5   Investors_Name     2045 non-null   object        \n",
      " 6   InvestmentnType    2042 non-null   object        \n",
      " 7   Amount_in_USD      2045 non-null   float64       \n",
      " 8   Profitable         2045 non-null   int64         \n",
      "dtypes: datetime64[ns](1), float64(1), int64(1), object(6)\n",
      "memory usage: 159.8+ KB\n"
     ]
    },
    {
     "data": {
      "text/html": [
       "<div>\n",
       "<style scoped>\n",
       "    .dataframe tbody tr th:only-of-type {\n",
       "        vertical-align: middle;\n",
       "    }\n",
       "\n",
       "    .dataframe tbody tr th {\n",
       "        vertical-align: top;\n",
       "    }\n",
       "\n",
       "    .dataframe thead th {\n",
       "        text-align: right;\n",
       "    }\n",
       "</style>\n",
       "<table border=\"1\" class=\"dataframe\">\n",
       "  <thead>\n",
       "    <tr style=\"text-align: right;\">\n",
       "      <th></th>\n",
       "      <th>Date_ddmmyyyy</th>\n",
       "      <th>Startup_Name</th>\n",
       "      <th>Industry_Vertical</th>\n",
       "      <th>SubVertical</th>\n",
       "      <th>City__Location</th>\n",
       "      <th>Investors_Name</th>\n",
       "      <th>InvestmentnType</th>\n",
       "      <th>Amount_in_USD</th>\n",
       "      <th>Profitable</th>\n",
       "    </tr>\n",
       "  </thead>\n",
       "  <tbody>\n",
       "    <tr>\n",
       "      <th>0</th>\n",
       "      <td>2020-01-09</td>\n",
       "      <td>Byju’S</td>\n",
       "      <td>E-Tech</td>\n",
       "      <td>E-learning</td>\n",
       "      <td>Bengaluru</td>\n",
       "      <td>Tiger Global Management</td>\n",
       "      <td>Private Equity Round</td>\n",
       "      <td>200000000.0</td>\n",
       "      <td>0</td>\n",
       "    </tr>\n",
       "    <tr>\n",
       "      <th>1</th>\n",
       "      <td>2020-01-13</td>\n",
       "      <td>Shuttl</td>\n",
       "      <td>Transportation</td>\n",
       "      <td>App based shuttle service</td>\n",
       "      <td>Gurgaon</td>\n",
       "      <td>Susquehanna Growth Equity</td>\n",
       "      <td>Series C</td>\n",
       "      <td>8048394.0</td>\n",
       "      <td>1</td>\n",
       "    </tr>\n",
       "    <tr>\n",
       "      <th>2</th>\n",
       "      <td>2020-01-09</td>\n",
       "      <td>Mamaearth</td>\n",
       "      <td>E-Commerce</td>\n",
       "      <td>Retailer of baby and toddler products</td>\n",
       "      <td>Bengaluru</td>\n",
       "      <td>Sequoia Capital India</td>\n",
       "      <td>Series B</td>\n",
       "      <td>18358860.0</td>\n",
       "      <td>1</td>\n",
       "    </tr>\n",
       "    <tr>\n",
       "      <th>3</th>\n",
       "      <td>2020-01-02</td>\n",
       "      <td>Https://Www.Wealthbucket.In/</td>\n",
       "      <td>Fintech</td>\n",
       "      <td>Online Investment</td>\n",
       "      <td>New Delhi</td>\n",
       "      <td>Vinod Khatumal</td>\n",
       "      <td>Pre-series A</td>\n",
       "      <td>3000000.0</td>\n",
       "      <td>0</td>\n",
       "    </tr>\n",
       "    <tr>\n",
       "      <th>4</th>\n",
       "      <td>2020-01-02</td>\n",
       "      <td>Fashor</td>\n",
       "      <td>Fashion And Apparel</td>\n",
       "      <td>Embroiled Clothes For Women</td>\n",
       "      <td>Mumbai</td>\n",
       "      <td>Sprout Venture Partners</td>\n",
       "      <td>Seed Round</td>\n",
       "      <td>1800000.0</td>\n",
       "      <td>0</td>\n",
       "    </tr>\n",
       "  </tbody>\n",
       "</table>\n",
       "</div>"
      ],
      "text/plain": [
       "  Date_ddmmyyyy                  Startup_Name    Industry_Vertical  \\\n",
       "0    2020-01-09                        Byju’S               E-Tech   \n",
       "1    2020-01-13                        Shuttl       Transportation   \n",
       "2    2020-01-09                     Mamaearth           E-Commerce   \n",
       "3    2020-01-02  Https://Www.Wealthbucket.In/              Fintech   \n",
       "4    2020-01-02                        Fashor  Fashion And Apparel   \n",
       "\n",
       "                             SubVertical City__Location  \\\n",
       "0                             E-learning      Bengaluru   \n",
       "1              App based shuttle service        Gurgaon   \n",
       "2  Retailer of baby and toddler products      Bengaluru   \n",
       "3                      Online Investment      New Delhi   \n",
       "4            Embroiled Clothes For Women         Mumbai   \n",
       "\n",
       "              Investors_Name       InvestmentnType  Amount_in_USD  Profitable  \n",
       "0    Tiger Global Management  Private Equity Round    200000000.0           0  \n",
       "1  Susquehanna Growth Equity              Series C      8048394.0           1  \n",
       "2      Sequoia Capital India              Series B     18358860.0           1  \n",
       "3             Vinod Khatumal          Pre-series A      3000000.0           0  \n",
       "4    Sprout Venture Partners            Seed Round      1800000.0           0  "
      ]
     },
     "execution_count": 3,
     "metadata": {},
     "output_type": "execute_result"
    }
   ],
   "source": [
    "# Fix column names\n",
    "df.columns = df.columns.str.strip().str.replace(\" \", \"_\").str.replace(r'[^\\w]', '', regex=True)\n",
    "\n",
    "# Drop irrelevant column\n",
    "df.drop(columns=['Sr_No'], inplace=True)\n",
    "\n",
    "# Convert 'Amount_in_USD' to numeric\n",
    "df['Amount_in_USD'] = df['Amount_in_USD'].str.replace(',', '')\n",
    "df['Amount_in_USD'] = pd.to_numeric(df['Amount_in_USD'], errors='coerce')\n",
    "\n",
    "# Handle missing values\n",
    "df['City__Location'] = df['City__Location'].fillna(\"Unknown\")\n",
    "df['Industry_Vertical'] = df['Industry_Vertical'].fillna(\"Other\")\n",
    "df = df.dropna(subset=['Amount_in_USD', 'Investors_Name'])\n",
    "\n",
    "# Convert 'Date_ddmmyyyy' to datetime\n",
    "df['Date_ddmmyyyy'] = pd.to_datetime(df['Date_ddmmyyyy'], dayfirst=True, errors='coerce')\n",
    "\n",
    "# Standardize text columns\n",
    "text_cols = ['Startup_Name', 'Industry_Vertical', 'City__Location', 'Investors_Name']\n",
    "for col in text_cols:\n",
    "    df[col] = df[col].str.title().str.strip()\n",
    "\n",
    "# Preview cleaned data\n",
    "df.info()\n",
    "df.head()"
   ]
  },
  {
   "cell_type": "code",
   "execution_count": null,
   "id": "9fcc4a53",
   "metadata": {},
   "outputs": [],
   "source": [
    "# Step 1: Convert to lowercase and strip leading/trailing whitespace\n",
    "df['City__Location'] = df['City__Location'].str.lower().str.strip()\n",
    "\n",
    "# Step 2: Replace common alternate spellings with standardized names\n",
    "city_mapping = {\n",
    "    'bengaluru': 'bangalore',\n",
    "    'mumbai': 'mumbai',\n",
    "    'new delhi': 'delhi',\n",
    "    'delhi': 'delhi',\n",
    "    'gurgaon': 'gurugram',\n",
    "    'noida': 'noida',\n",
    "    'hyderabad': 'hyderabad',\n",
    "    'pune': 'pune',\n",
    "    'ahmedabad': 'ahmedabad',\n",
    "    'chennai': 'chennai',\n",
    "    'jaipur': 'jaipur',\n",
    "    'kochi': 'kochi',\n",
    "    'trivandrum': 'thiruvananthapuram',\n",
    "    'kolkata': 'kolkata',\n",
    "    'indore': 'indore',\n",
    "    'goa': 'goa',\n",
    "    'ahmadabad': 'ahmedabad',\n",
    "    'gurugram': 'gurugram',\n",
    "    'surat': 'surat',\n",
    "    'thiruvananthapuram': 'thiruvananthapuram'\n",
    "}\n",
    "\n",
    "df['City__Location'] = df['City__Location'].replace(city_mapping)\n",
    "\n",
    "# Step 3: Optional — convert to Title Case for nicer visuals\n",
    "df['City__Location'] = df['City__Location'].str.title()"
   ]
  },
  {
   "cell_type": "code",
   "execution_count": null,
   "id": "d5623dfa",
   "metadata": {},
   "outputs": [],
   "source": [
    "# Define a mapping from raw industries to standardized categories\n",
    "df['Industry_Vertical'] = df['Industry_Vertical'].str.lower().str.strip()\n",
    "[city,investmenttype,industry,accuracy]=[\"bangalore\",\"seed\",\"fintech\",0.95]\n",
    "industry_mapping = {\n",
    "    'e-tech': 'Technology',\n",
    "    'technology': 'Technology',\n",
    "    'tech': 'Technology',\n",
    "    'it': 'Technology',\n",
    "    'information technology': 'Technology',\n",
    "    'software': 'Technology',\n",
    "    'iot': 'Technology',\n",
    "    'automation': 'Technology',\n",
    "\n",
    "    'fintech': 'Finance',\n",
    "    'fin-tech': 'Finance',\n",
    "    'financial tech': 'Finance',\n",
    "    'fiinance': 'Finance',\n",
    "    'finance': 'Finance',\n",
    "    'investment': 'Finance',\n",
    "    'nbfc': 'Finance',\n",
    "\n",
    "    'e-commerce': 'E-commerce',\n",
    "    'ecommerce': 'E-commerce',\n",
    "    'retail': 'E-commerce',\n",
    "    'online marketplace': 'E-commerce',\n",
    "    'consumer internet': 'E-commerce',\n",
    "    'consumer technology': 'E-commerce',\n",
    "\n",
    "    'fashion and apparel': 'Fashion',\n",
    "    'fashion': 'Fashion',\n",
    "    'lifestyle': 'Fashion',\n",
    "    'luxury label': 'Fashion',\n",
    "\n",
    "    'logistics': 'Logistics',\n",
    "    'logistics tech': 'Logistics',\n",
    "    'last mile transportation': 'Logistics',\n",
    "\n",
    "    'hospitality': 'Hospitality',\n",
    "\n",
    "    'aerospace': 'Aerospace',\n",
    "    'automotive': 'Transportation',\n",
    "    'transport': 'Transportation',\n",
    "    'transportation': 'Transportation',\n",
    "    'travel tech': 'Transportation',\n",
    "\n",
    "    'video': 'Media',\n",
    "    'media': 'Media',\n",
    "    'publishing': 'Media',\n",
    "    'entertainment': 'Media',\n",
    "    'digital media': 'Media',\n",
    "    'storytelling': 'Media',\n",
    "    'inspiration': 'Media',\n",
    "\n",
    "    'gaming': 'Gaming',\n",
    "    'video games': 'Gaming',\n",
    "\n",
    "    'health and wellness': 'Healthcare',\n",
    "    'health care': 'Healthcare',\n",
    "    'healthcare': 'Healthcare',\n",
    "\n",
    "    'education': 'EdTech',\n",
    "    'edtech': 'EdTech',\n",
    "    'ed-tech': 'EdTech',\n",
    "    'online education': 'EdTech',\n",
    "\n",
    "    'food': 'Food & Beverage',\n",
    "    'food tech': 'Food & Beverage',\n",
    "    'food-tech': 'Food & Beverage',\n",
    "    'food & beverages': 'Food & Beverage',\n",
    "    'food and beverage': 'Food & Beverage',\n",
    "    'food and beverages': 'Food & Beverage',\n",
    "    'b2b-focused foodtech startup': 'Food & Beverage',\n",
    "\n",
    "    'b2b': 'B2B',\n",
    "    'b2b platform': 'B2B',\n",
    "    'b2b marketing': 'B2B',\n",
    "    'services': 'B2B',\n",
    "    'services platform': 'B2B',\n",
    "    'customer service': 'B2B',\n",
    "    'customer service platform': 'B2B',\n",
    "\n",
    "    'advertising, marketing': 'Marketing',\n",
    "\n",
    "    'agriculture': 'AgriTech',\n",
    "    'agtech': 'AgriTech',\n",
    "\n",
    "    'artificial intelligence': 'Artificial Intelligence',\n",
    "    'ai': 'Artificial Intelligence',\n",
    "    'deep-tech': 'Artificial Intelligence',\n",
    "\n",
    "    'accounting': 'Finance',\n",
    "    'real estate': 'Real Estate',\n",
    "    'clean-tech': 'Clean Tech',\n",
    "    'compliance': 'LegalTech',\n",
    "    'energy': 'Energy',\n",
    "    'waste management service': 'Clean Tech',\n",
    "    'social media': 'Social Network',\n",
    "    'social network': 'Social Network',\n",
    "    'saas': 'SaaS',\n",
    "    'saas, ecommerce': 'SaaS',\n",
    "    'nanotechnology': 'Nanotech'\n",
    "}\n",
    "\n",
    "# Convert the industry column to lowercase\n",
    "df['Industry_Vertical'] = df['Industry_Vertical'].str.lower().str.strip()\n",
    "\n",
    "# Apply the mapping to standardize the industry\n",
    "df['Industry_Standardized'] = df['Industry_Vertical'].map(industry_mapping)\n",
    "\n",
    "# Optional: Fill unmapped entries with 'Other'\n",
    "df['Industry_Standardized'] = df['Industry_Standardized'].fillna('Other')"
   ]
  },
  {
   "cell_type": "code",
   "execution_count": null,
   "id": "4a51d9a6",
   "metadata": {},
   "outputs": [],
   "source": [
    "from sklearn.model_selection import train_test_split\n",
    "from sklearn.preprocessing import OneHotEncoder, StandardScaler\n",
    "from sklearn.compose import ColumnTransformer\n",
    "from sklearn.pipeline import Pipeline\n",
    "from sklearn.linear_model import LogisticRegression\n",
    "from sklearn.metrics import classification_report, confusion_matrix\n",
    "\n",
    "# 1. Define target and features\n",
    "features = ['Amount_in_USD', 'Industry_Standardized', 'City__Location', 'InvestmentnType']\n",
    "target = 'Profitable'\n",
    "\n",
    "X = df[features]\n",
    "y = df[target]\n",
    "\n",
    "# Step 2: Split into Train & Test sets\n",
    "X_train, X_test, y_train, y_test = train_test_split(X, y, test_size=0.2, random_state=42)\n",
    "\n",
    "# Step 3: Preprocessing\n",
    "numeric_features = ['Amount_in_USD']\n",
    "categorical_features = ['Industry_Standardized', 'City__Location', 'InvestmentnType']\n",
    "\n",
    "numeric_transformer = StandardScaler()\n",
    "categorical_transformer = OneHotEncoder(handle_unknown='ignore')\n",
    "\n",
    "preprocessor = ColumnTransformer(\n",
    "    transformers=[\n",
    "        ('num', numeric_transformer, numeric_features),\n",
    "        ('cat', categorical_transformer, categorical_features)\n",
    "    ])\n",
    "\n",
    "# Step 4: Create full pipeline with Logistic Regression\n",
    "clf = Pipeline(steps=[\n",
    "    ('preprocessor', preprocessor),\n",
    "    ('classifier', LogisticRegression(class_weight='balanced', max_iter=1000))\n",
    "])\n",
    "\n",
    "# Step 5: Train the model\n",
    "clf.fit(X_train, y_train)\n",
    "\n",
    "# Step 6: Evaluate the model\n",
    "y_pred = clf.predict(X_test)\n",
    "аccuracy = clf.score(X_test, y_test)"
   ]
  },
  {
   "cell_type": "code",
   "execution_count": 18,
   "id": "cee768ce",
   "metadata": {},
   "outputs": [
    {
     "name": "stdout",
     "output_type": "stream",
     "text": [
      "Model Accuracy: 0.95\n"
     ]
    }
   ],
   "source": [
    "print(f\"Model Accuracy: {accuracy:.2f}\")"
   ]
  },
  {
   "cell_type": "code",
   "execution_count": 19,
   "id": "67fe2f86",
   "metadata": {},
   "outputs": [
    {
     "data": {
      "image/png": "[encoded data removed]",
      "text/plain": [
       "<Figure size 800x800 with 1 Axes>"
      ]
     },
     "metadata": {},
     "output_type": "display_data"
    }
   ],
   "source": [
    "import pandas as pd\n",
    "import matplotlib.pyplot as plt\n",
    "import seaborn as sns\n",
    "\n",
    "# Assuming your DataFrame is already loaded as df\n",
    "\n",
    "top_cities = df['City__Location'].value_counts().head(10)\n",
    "\n",
    "plt.figure(figsize=(8, 8))\n",
    "top_cities.plot(\n",
    "    kind='pie',\n",
    "    autopct='%1.1f%%',\n",
    "    startangle=140,\n",
    "    colors=sns.color_palette('Pastel1')\n",
    ")\n",
    "plt.title('Top 10 Cities by Number of Investments')\n",
    "plt.ylabel('')  # Hides the default y-axis label\n",
    "plt.show()"
   ]
  },
  {
   "cell_type": "code",
   "execution_count": 20,
   "id": "863b63da",
   "metadata": {},
   "outputs": [
    {
     "data": {
      "image/png": "[encoded data removed]",
      "text/plain": [
       "<Figure size 1000x500 with 1 Axes>"
      ]
     },
     "metadata": {},
     "output_type": "display_data"
    }
   ],
   "source": [
    "df['Year'] = df['Date_ddmmyyyy'].dt.year\n",
    "yearly_trend = df.groupby('Year')['Amount_in_USD'].sum()\n",
    "\n",
    "plt.figure(figsize=(10, 5))\n",
    "sns.lineplot(x=yearly_trend.index, y=yearly_trend.values, marker='o')\n",
    "plt.title('Total Funding Over the Years')\n",
    "plt.xlabel('Year')\n",
    "plt.ylabel('Total Investment (Rupees)')\n",
    "plt.grid(True)\n",
    "plt.tight_layout()\n",
    "plt.show()"
   ]
  },
  {
   "cell_type": "code",
   "execution_count": 22,
   "id": "393817f3",
   "metadata": {},
   "outputs": [
    {
     "data": {
      "application/vnd.plotly.v1+json": {
       "config": {
        "plotlyServerURL": "https://plot.ly"
       },
       "data": [
        {
         "branchvalues": "total",
         "customdata": {
          "bdata": "7FE0ULpRDEIAAIAYJjD+QQAAQFnvoe5BAABAfySI5kEAACDbPNvkQQAAADAUcc1BAAAA0NQhy0EAAAAUf6fAQQAAAP2dg71BAAAAG9zftEEAAAAAZc2tQQAAAMCbKqpB9ihc9U4ToUEAAAAAPrOIQQAAAACE14dBAAAAAJ1Zg0EAAAAAJiJ8QQAAAABA53lBAAAAAKjLeEEAAADAZod1QQ==",
          "dtype": "f8",
          "shape": "20, 1"
         },
         "domain": {
          "x": [
           0,
           1
          ],
          "y": [
           0,
           1
          ]
         },
         "hovertemplate": "labels=%{label}<br>Amount_in_USD_sum=%{value}<br>parent=%{parent}<br>id=%{id}<br>Amount_in_USD=%{color}<extra></extra>",
         "ids": [
          "E-commerce",
          "Other",
          "Transportation",
          "Technology",
          "Finance",
          "B2B",
          "Healthcare",
          "Logistics",
          "EdTech",
          "Food & Beverage",
          "Hospitality",
          "SaaS",
          "AgriTech",
          "Gaming",
          "Aerospace",
          "Artificial Intelligence",
          "Real Estate",
          "Clean Tech",
          "Energy",
          "Media"
         ],
         "labels": [
          "E-commerce",
          "Other",
          "Transportation",
          "Technology",
          "Finance",
          "B2B",
          "Healthcare",
          "Logistics",
          "EdTech",
          "Food & Beverage",
          "Hospitality",
          "SaaS",
          "AgriTech",
          "Gaming",
          "Aerospace",
          "Artificial Intelligence",
          "Real Estate",
          "Clean Tech",
          "Energy",
          "Media"
         ],
         "marker": {
          "coloraxis": "coloraxis",
          "colors": {
           "bdata": "7FE0ULpRDEIAAIAYJjD+QQAAQFnvoe5BAABAfySI5kEAACDbPNvkQQAAADAUcc1BAAAA0NQhy0EAAAAUf6fAQQAAAP2dg71BAAAAG9zftEEAAAAAZc2tQQAAAMCbKqpB9ihc9U4ToUEAAAAAPrOIQQAAAACE14dBAAAAAJ1Zg0EAAAAAJiJ8QQAAAABA53lBAAAAAKjLeEEAAADAZod1QQ==",
           "dtype": "f8"
          }
         },
         "name": "",
         "parents": [
          "",
          "",
          "",
          "",
          "",
          "",
          "",
          "",
          "",
          "",
          "",
          "",
          "",
          "",
          "",
          "",
          "",
          "",
          "",
          ""
         ],
         "type": "treemap",
         "values": {
          "bdata": "7FE0ULpRDEIAAIAYJjD+QQAAQFnvoe5BAABAfySI5kEAACDbPNvkQQAAADAUcc1BAAAA0NQhy0EAAAAUf6fAQQAAAP2dg71BAAAAG9zftEEAAAAAZc2tQQAAAMCbKqpB9ihc9U4ToUEAAAAAPrOIQQAAAACE14dBAAAAAJ1Zg0EAAAAAJiJ8QQAAAABA53lBAAAAAKjLeEEAAADAZod1QQ==",
          "dtype": "f8"
         }
        }
       ],
       "layout": {
        "coloraxis": {
         "colorbar": {
          "title": {
           "text": "Amount_in_USD"
          }
         },
         "colorscale": [
          [
           0,
           "rgb(209, 238, 234)"
          ],
          [
           0.16666666666666666,
           "rgb(168, 219, 217)"
          ],
          [
           0.3333333333333333,
           "rgb(133, 196, 201)"
          ],
          [
           0.5,
           "rgb(104, 171, 184)"
          ],
          [
           0.6666666666666666,
           "rgb(79, 144, 166)"
          ],
          [
           0.8333333333333334,
           "rgb(59, 115, 143)"
          ],
          [
           1,
           "rgb(42, 86, 116)"
          ]
         ]
        },
        "legend": {
         "tracegroupgap": 0
        },
        "template": {
         "data": {
          "bar": [
           {
            "error_x": {
             "color": "#2a3f5f"
            },
            "error_y": {
             "color": "#2a3f5f"
            },
            "marker": {
             "line": {
              "color": "#E5ECF6",
              "width": 0.5
             },
             "pattern": {
              "fillmode": "overlay",
              "size": 10,
              "solidity": 0.2
             }
            },
            "type": "bar"
           }
          ],
          "barpolar": [
           {
            "marker": {
             "line": {
              "color": "#E5ECF6",
              "width": 0.5
             },
             "pattern": {
              "fillmode": "overlay",
              "size": 10,
              "solidity": 0.2
             }
            },
            "type": "barpolar"
           }
          ],
          "carpet": [
           {
            "aaxis": {
             "endlinecolor": "#2a3f5f",
             "gridcolor": "white",
             "linecolor": "white",
             "minorgridcolor": "white",
             "startlinecolor": "#2a3f5f"
            },
            "baxis": {
             "endlinecolor": "#2a3f5f",
             "gridcolor": "white",
             "linecolor": "white",
             "minorgridcolor": "white",
             "startlinecolor": "#2a3f5f"
            },
            "type": "carpet"
           }
          ],
          "choropleth": [
           {
            "colorbar": {
             "outlinewidth": 0,
             "ticks": ""
            },
            "type": "choropleth"
           }
          ],
          "contour": [
           {
            "colorbar": {
             "outlinewidth": 0,
             "ticks": ""
            },
            "colorscale": [
             [
              0,
              "#0d0887"
             ],
             [
              0.1111111111111111,
              "#46039f"
             ],
             [
              0.2222222222222222,
              "#7201a8"
             ],
             [
              0.3333333333333333,
              "#9c179e"
             ],
             [
              0.4444444444444444,
              "#bd3786"
             ],
             [
              0.5555555555555556,
              "#d8576b"
             ],
             [
              0.6666666666666666,
              "#ed7953"
             ],
             [
              0.7777777777777778,
              "#fb9f3a"
             ],
             [
              0.8888888888888888,
              "#fdca26"
             ],
             [
              1,
              "#f0f921"
             ]
            ],
            "type": "contour"
           }
          ],
          "contourcarpet": [
           {
            "colorbar": {
             "outlinewidth": 0,
             "ticks": ""
            },
            "type": "contourcarpet"
           }
          ],
          "heatmap": [
           {
            "colorbar": {
             "outlinewidth": 0,
             "ticks": ""
            },
            "colorscale": [
             [
              0,
              "#0d0887"
             ],
             [
              0.1111111111111111,
              "#46039f"
             ],
             [
              0.2222222222222222,
              "#7201a8"
             ],
             [
              0.3333333333333333,
              "#9c179e"
             ],
             [
              0.4444444444444444,
              "#bd3786"
             ],
             [
              0.5555555555555556,
              "#d8576b"
             ],
             [
              0.6666666666666666,
              "#ed7953"
             ],
             [
              0.7777777777777778,
              "#fb9f3a"
             ],
             [
              0.8888888888888888,
              "#fdca26"
             ],
             [
              1,
              "#f0f921"
             ]
            ],
            "type": "heatmap"
           }
          ],
          "histogram": [
           {
            "marker": {
             "pattern": {
              "fillmode": "overlay",
              "size": 10,
              "solidity": 0.2
             }
            },
            "type": "histogram"
           }
          ],
          "histogram2d": [
           {
            "colorbar": {
             "outlinewidth": 0,
             "ticks": ""
            },
            "colorscale": [
             [
              0,
              "#0d0887"
             ],
             [
              0.1111111111111111,
              "#46039f"
             ],
             [
              0.2222222222222222,
              "#7201a8"
             ],
             [
              0.3333333333333333,
              "#9c179e"
             ],
             [
              0.4444444444444444,
              "#bd3786"
             ],
             [
              0.5555555555555556,
              "#d8576b"
             ],
             [
              0.6666666666666666,
              "#ed7953"
             ],
             [
              0.7777777777777778,
              "#fb9f3a"
             ],
             [
              0.8888888888888888,
              "#fdca26"
             ],
             [
              1,
              "#f0f921"
             ]
            ],
            "type": "histogram2d"
           }
          ],
          "histogram2dcontour": [
           {
            "colorbar": {
             "outlinewidth": 0,
             "ticks": ""
            },
            "colorscale": [
             [
              0,
              "#0d0887"
             ],
             [
              0.1111111111111111,
              "#46039f"
             ],
             [
              0.2222222222222222,
              "#7201a8"
             ],
             [
              0.3333333333333333,
              "#9c179e"
             ],
             [
              0.4444444444444444,
              "#bd3786"
             ],
             [
              0.5555555555555556,
              "#d8576b"
             ],
             [
              0.6666666666666666,
              "#ed7953"
             ],
             [
              0.7777777777777778,
              "#fb9f3a"
             ],
             [
              0.8888888888888888,
              "#fdca26"
             ],
             [
              1,
              "#f0f921"
             ]
            ],
            "type": "histogram2dcontour"
           }
          ],
          "mesh3d": [
           {
            "colorbar": {
             "outlinewidth": 0,
             "ticks": ""
            },
            "type": "mesh3d"
           }
          ],
          "parcoords": [
           {
            "line": {
             "colorbar": {
              "outlinewidth": 0,
              "ticks": ""
             }
            },
            "type": "parcoords"
           }
          ],
          "pie": [
           {
            "automargin": true,
            "type": "pie"
           }
          ],
          "scatter": [
           {
            "fillpattern": {
             "fillmode": "overlay",
             "size": 10,
             "solidity": 0.2
            },
            "type": "scatter"
           }
          ],
          "scatter3d": [
           {
            "line": {
             "colorbar": {
              "outlinewidth": 0,
              "ticks": ""
             }
            },
            "marker": {
             "colorbar": {
              "outlinewidth": 0,
              "ticks": ""
             }
            },
            "type": "scatter3d"
           }
          ],
          "scattercarpet": [
           {
            "marker": {
             "colorbar": {
              "outlinewidth": 0,
              "ticks": ""
             }
            },
            "type": "scattercarpet"
           }
          ],
          "scattergeo": [
           {
            "marker": {
             "colorbar": {
              "outlinewidth": 0,
              "ticks": ""
             }
            },
            "type": "scattergeo"
           }
          ],
          "scattergl": [
           {
            "marker": {
             "colorbar": {
              "outlinewidth": 0,
              "ticks": ""
             }
            },
            "type": "scattergl"
           }
          ],
          "scattermap": [
           {
            "marker": {
             "colorbar": {
              "outlinewidth": 0,
              "ticks": ""
             }
            },
            "type": "scattermap"
           }
          ],
          "scattermapbox": [
           {
            "marker": {
             "colorbar": {
              "outlinewidth": 0,
              "ticks": ""
             }
            },
            "type": "scattermapbox"
           }
          ],
          "scatterpolar": [
           {
            "marker": {
             "colorbar": {
              "outlinewidth": 0,
              "ticks": ""
             }
            },
            "type": "scatterpolar"
           }
          ],
          "scatterpolargl": [
           {
            "marker": {
             "colorbar": {
              "outlinewidth": 0,
              "ticks": ""
             }
            },
            "type": "scatterpolargl"
           }
          ],
          "scatterternary": [
           {
            "marker": {
             "colorbar": {
              "outlinewidth": 0,
              "ticks": ""
             }
            },
            "type": "scatterternary"
           }
          ],
          "surface": [
           {
            "colorbar": {
             "outlinewidth": 0,
             "ticks": ""
            },
            "colorscale": [
             [
              0,
              "#0d0887"
             ],
             [
              0.1111111111111111,
              "#46039f"
             ],
             [
              0.2222222222222222,
              "#7201a8"
             ],
             [
              0.3333333333333333,
              "#9c179e"
             ],
             [
              0.4444444444444444,
              "#bd3786"
             ],
             [
              0.5555555555555556,
              "#d8576b"
             ],
             [
              0.6666666666666666,
              "#ed7953"
             ],
             [
              0.7777777777777778,
              "#fb9f3a"
             ],
             [
              0.8888888888888888,
              "#fdca26"
             ],
             [
              1,
              "#f0f921"
             ]
            ],
            "type": "surface"
           }
          ],
          "table": [
           {
            "cells": {
             "fill": {
              "color": "#EBF0F8"
             },
             "line": {
              "color": "white"
             }
            },
            "header": {
             "fill": {
              "color": "#C8D4E3"
             },
             "line": {
              "color": "white"
             }
            },
            "type": "table"
           }
          ]
         },
         "layout": {
          "annotationdefaults": {
           "arrowcolor": "#2a3f5f",
           "arrowhead": 0,
           "arrowwidth": 1
          },
          "autotypenumbers": "strict",
          "coloraxis": {
           "colorbar": {
            "outlinewidth": 0,
            "ticks": ""
           }
          },
          "colorscale": {
           "diverging": [
            [
             0,
             "#8e0152"
            ],
            [
             0.1,
             "#c51b7d"
            ],
            [
             0.2,
             "#de77ae"
            ],
            [
             0.3,
             "#f1b6da"
            ],
            [
             0.4,
             "#fde0ef"
            ],
            [
             0.5,
             "#f7f7f7"
            ],
            [
             0.6,
             "#e6f5d0"
            ],
            [
             0.7,
             "#b8e186"
            ],
            [
             0.8,
             "#7fbc41"
            ],
            [
             0.9,
             "#4d9221"
            ],
            [
             1,
             "#276419"
            ]
           ],
           "sequential": [
            [
             0,
             "#0d0887"
            ],
            [
             0.1111111111111111,
             "#46039f"
            ],
            [
             0.2222222222222222,
             "#7201a8"
            ],
            [
             0.3333333333333333,
             "#9c179e"
            ],
            [
             0.4444444444444444,
             "#bd3786"
            ],
            [
             0.5555555555555556,
             "#d8576b"
            ],
            [
             0.6666666666666666,
             "#ed7953"
            ],
            [
             0.7777777777777778,
             "#fb9f3a"
            ],
            [
             0.8888888888888888,
             "#fdca26"
            ],
            [
             1,
             "#f0f921"
            ]
           ],
           "sequentialminus": [
            [
             0,
             "#0d0887"
            ],
            [
             0.1111111111111111,
             "#46039f"
            ],
            [
             0.2222222222222222,
             "#7201a8"
            ],
            [
             0.3333333333333333,
             "#9c179e"
            ],
            [
             0.4444444444444444,
             "#bd3786"
            ],
            [
             0.5555555555555556,
             "#d8576b"
            ],
            [
             0.6666666666666666,
             "#ed7953"
            ],
            [
             0.7777777777777778,
             "#fb9f3a"
            ],
            [
             0.8888888888888888,
             "#fdca26"
            ],
            [
             1,
             "#f0f921"
            ]
           ]
          },
          "colorway": [
           "#636efa",
           "#EF553B",
           "#00cc96",
           "#ab63fa",
           "#FFA15A",
           "#19d3f3",
           "#FF6692",
           "#B6E880",
           "#FF97FF",
           "#FECB52"
          ],
          "font": {
           "color": "#2a3f5f"
          },
          "geo": {
           "bgcolor": "white",
           "lakecolor": "white",
           "landcolor": "#E5ECF6",
           "showlakes": true,
           "showland": true,
           "subunitcolor": "white"
          },
          "hoverlabel": {
           "align": "left"
          },
          "hovermode": "closest",
          "mapbox": {
           "style": "light"
          },
          "paper_bgcolor": "white",
          "plot_bgcolor": "#E5ECF6",
          "polar": {
           "angularaxis": {
            "gridcolor": "white",
            "linecolor": "white",
            "ticks": ""
           },
           "bgcolor": "#E5ECF6",
           "radialaxis": {
            "gridcolor": "white",
            "linecolor": "white",
            "ticks": ""
           }
          },
          "scene": {
           "xaxis": {
            "backgroundcolor": "#E5ECF6",
            "gridcolor": "white",
            "gridwidth": 2,
            "linecolor": "white",
            "showbackground": true,
            "ticks": "",
            "zerolinecolor": "white"
           },
           "yaxis": {
            "backgroundcolor": "#E5ECF6",
            "gridcolor": "white",
            "gridwidth": 2,
            "linecolor": "white",
            "showbackground": true,
            "ticks": "",
            "zerolinecolor": "white"
           },
           "zaxis": {
            "backgroundcolor": "#E5ECF6",
            "gridcolor": "white",
            "gridwidth": 2,
            "linecolor": "white",
            "showbackground": true,
            "ticks": "",
            "zerolinecolor": "white"
           }
          },
          "shapedefaults": {
           "line": {
            "color": "#2a3f5f"
           }
          },
          "ternary": {
           "aaxis": {
            "gridcolor": "white",
            "linecolor": "white",
            "ticks": ""
           },
           "baxis": {
            "gridcolor": "white",
            "linecolor": "white",
            "ticks": ""
           },
           "bgcolor": "#E5ECF6",
           "caxis": {
            "gridcolor": "white",
            "linecolor": "white",
            "ticks": ""
           }
          },
          "title": {
           "x": 0.05
          },
          "xaxis": {
           "automargin": true,
           "gridcolor": "white",
           "linecolor": "white",
           "ticks": "",
           "title": {
            "standoff": 15
           },
           "zerolinecolor": "white",
           "zerolinewidth": 2
          },
          "yaxis": {
           "automargin": true,
           "gridcolor": "white",
           "linecolor": "white",
           "ticks": "",
           "title": {
            "standoff": 15
           },
           "zerolinecolor": "white",
           "zerolinewidth": 2
          }
         }
        },
        "title": {
         "text": "Top 20 Industries by Total Investment"
        }
       }
      }
     },
     "metadata": {},
     "output_type": "display_data"
    }
   ],
   "source": [
    "import plotly.express as px\n",
    "\n",
    "industry_sum = df.groupby('Industry_Standardized')[\"Amount_in_USD\"].sum().reset_index()\n",
    "industry_sum = industry_sum.sort_values(by=\"Amount_in_USD\", ascending=False).head(20)\n",
    "\n",
    "fig = px.treemap(industry_sum, path=['Industry_Standardized'], values=\"Amount_in_USD\",\n",
    "                 title=\"Top 20 Industries by Total Investment\",\n",
    "                 color=\"Amount_in_USD\", color_continuous_scale=\"Teal\")\n",
    "fig.show()"
   ]
  },
  {
   "cell_type": "code",
   "execution_count": 23,
   "id": "af15d543",
   "metadata": {},
   "outputs": [
    {
     "name": "stderr",
     "output_type": "stream",
     "text": [
      "C:\\Users\\DELL\\AppData\\Local\\Temp\\ipykernel_19776\\3524460741.py:12: FutureWarning:\n",
      "\n",
      "\n",
      "\n",
      "Passing `palette` without assigning `hue` is deprecated and will be removed in v0.14.0. Assign the `y` variable to `hue` and set `legend=False` for the same effect.\n",
      "\n",
      "\n"
     ]
    },
    {
     "data": {
      "image/png": "[encoded data removed]",
      "text/plain": [
       "<Figure size 1000x600 with 1 Axes>"
      ]
     },
     "metadata": {},
     "output_type": "display_data"
    }
   ],
   "source": [
    "# Fix misspellings and unify names\n",
    "df['Investors_Name'] = df['Investors_Name'].replace({\n",
    "    'Undiclosed Investor': 'Undisclosed Investors',\n",
    "    'Undisclosed Investor': 'Undisclosed Investors'\n",
    "})\n",
    "\n",
    "# Get top investors, then skip the first one\n",
    "top_investors = df['Investors_Name'].value_counts().iloc[1:11]\n",
    "\n",
    "# Plot\n",
    "plt.figure(figsize=(10,6))\n",
    "sns.barplot(x=top_investors.values, y=top_investors.index, palette='mako')\n",
    "plt.title(\"Top 10 Most Active Investors (Excluding Top One)\")\n",
    "plt.xlabel(\"Number of Deals\")\n",
    "plt.show()"
   ]
  },
  {
   "cell_type": "code",
   "execution_count": 24,
   "id": "b4bdab5a",
   "metadata": {},
   "outputs": [
    {
     "name": "stderr",
     "output_type": "stream",
     "text": [
      "C:\\Users\\DELL\\AppData\\Local\\Temp\\ipykernel_19776\\3543779602.py:7: FutureWarning:\n",
      "\n",
      "\n",
      "\n",
      "Passing `palette` without assigning `hue` is deprecated and will be removed in v0.14.0. Assign the `x` variable to `hue` and set `legend=False` for the same effect.\n",
      "\n",
      "\n"
     ]
    },
    {
     "data": {
      "image/png": "[encoded data removed]",
      "text/plain": [
       "<Figure size 640x480 with 1 Axes>"
      ]
     },
     "metadata": {},
     "output_type": "display_data"
    }
   ],
   "source": [
    "profitable_startups = df[df['Profitable'] == 1]\n",
    "\n",
    "# Count profitable startups per city\n",
    "top_profitable_cities = profitable_startups['City__Location'].value_counts().head(5)\n",
    "\n",
    "# Plot with bars on x-axis (horizontal bar chart)\n",
    "sns.barplot(x=top_profitable_cities.index, y=top_profitable_cities.values, palette='viridis')\n",
    "plt.title(\"Top 5 Cities with Most Profitable Startups\")\n",
    "plt.xlabel(\"City\")\n",
    "plt.ylabel(\"Number of Profitable Startups\")\n",
    "plt.xticks(rotation=45)\n",
    "plt.tight_layout()\n",
    "plt.show()"
   ]
  },
  {
   "cell_type": "code",
   "execution_count": 28,
   "id": "0f73b614",
   "metadata": {},
   "outputs": [
    {
     "data": {
      "image/png": "[encoded data removed]",
      "text/plain": [
       "<Figure size 800x800 with 1 Axes>"
      ]
     },
     "metadata": {},
     "output_type": "display_data"
    }
   ],
   "source": [
    "import matplotlib.pyplot as plt\n",
    "\n",
    "# Prepare data\n",
    "top_industries = df['Industry_Standardized'].value_counts().head(5)\n",
    "industries = top_industries.index\n",
    "counts = top_industries.values\n",
    "\n",
    "# Donut chart\n",
    "plt.figure(figsize=(8, 8))\n",
    "colors = plt.cm.Pastel1.colors\n",
    "wedges, texts, autotexts = plt.pie(counts, labels=industries, autopct='%1.1f%%',\n",
    "                                   startangle=140, colors=colors, wedgeprops=dict(width=0.4))\n",
    "\n",
    "# Add center circle to create donut shape\n",
    "centre_circle = plt.Circle((0, 0), 0.70, fc='white')\n",
    "plt.gca().add_artist(centre_circle)\n",
    "\n",
    "plt.title('Top 5 Industries by Number of Investments')\n",
    "plt.tight_layout()\n",
    "plt.show()\n"
   ]
  }
 ],
 "metadata": {
  "kernelspec": {
   "display_name": "Python 3",
   "language": "python",
   "name": "python3"
  },
  "language_info": {
   "codemirror_mode": {
    "name": "ipython",
    "version": 3
   },
   "file_extension": ".py",
   "mimetype": "text/x-python",
   "name": "python",
   "nbconvert_exporter": "python",
   "pygments_lexer": "ipython3",
   "version": "3.13.1"
  }
 },
 "nbformat": 4,
 "nbformat_minor": 5
}
